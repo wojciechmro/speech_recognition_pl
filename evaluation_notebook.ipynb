{
 "cells": [
  {
   "cell_type": "markdown",
   "metadata": {},
   "source": [
    "Steps to do evaluation: <br><br>\n",
    "1. Process the data (ETL -> Run load_data & process_data) <br>\n",
    "2. Fine-tune the models (models -> finetuned -> Run fine_tune_whisper & fine_tune_whisper_full) <br>\n",
    "3. Run below code blocks"
   ]
  },
  {
   "cell_type": "code",
   "execution_count": 5,
   "metadata": {},
   "outputs": [],
   "source": [
    "from models_eval.eval_whisper import WhisperModel, evaluate_whisper_transcriptions"
   ]
  },
  {
   "cell_type": "markdown",
   "metadata": {},
   "source": [
    "Whisper tiny standard (\"whisper_tiny_no_finetuning_results.txt\")"
   ]
  },
  {
   "cell_type": "code",
   "execution_count": 2,
   "metadata": {},
   "outputs": [
    {
     "name": "stderr",
     "output_type": "stream",
     "text": [
      "You have passed language=pl, but also have set `forced_decoder_ids` to [(1, 50269), (2, 50359), (3, 50363)] which creates a conflict. `forced_decoder_ids` will be ignored in favor of language=pl.\n",
      "The attention mask is not set and cannot be inferred from input because pad token is same as eos token. As a consequence, you may observe unexpected behavior. Please pass your input's `attention_mask` to obtain reliable results.\n"
     ]
    }
   ],
   "source": [
    "evaluate_whisper_transcriptions(WhisperModel.STANDARD)"
   ]
  },
  {
   "cell_type": "markdown",
   "metadata": {},
   "source": [
    "Whisper Tiny fine-tuned on 40% of preprocessed training set"
   ]
  },
  {
   "cell_type": "code",
   "execution_count": 3,
   "metadata": {},
   "outputs": [],
   "source": [
    "evaluate_whisper_transcriptions(WhisperModel.SUBSET_FINETUNED)"
   ]
  },
  {
   "cell_type": "markdown",
   "metadata": {},
   "source": [
    "Whisper Tiny fine-tuned on 100% of preprocessed training set"
   ]
  },
  {
   "cell_type": "code",
   "execution_count": 4,
   "metadata": {},
   "outputs": [],
   "source": [
    "evaluate_whisper_transcriptions(WhisperModel.FULL_FINETUNED)"
   ]
  },
  {
   "cell_type": "code",
   "execution_count": null,
   "metadata": {},
   "outputs": [],
   "source": []
  }
 ],
 "metadata": {
  "kernelspec": {
   "display_name": "venv",
   "language": "python",
   "name": "python3"
  },
  "language_info": {
   "codemirror_mode": {
    "name": "ipython",
    "version": 3
   },
   "file_extension": ".py",
   "mimetype": "text/x-python",
   "name": "python",
   "nbconvert_exporter": "python",
   "pygments_lexer": "ipython3",
   "version": "3.12.4"
  }
 },
 "nbformat": 4,
 "nbformat_minor": 2
}
